{
 "cells": [
  {
   "cell_type": "code",
   "execution_count": 1,
   "metadata": {},
   "outputs": [],
   "source": [
    "from mdistribucion import mdistribucion"
   ]
  },
  {
   "cell_type": "markdown",
   "metadata": {},
   "source": [
    "# Momentos de la distribuciones para \"edades.dat\"\n"
   ]
  },
  {
   "cell_type": "code",
   "execution_count": 2,
   "metadata": {},
   "outputs": [
    {
     "name": "stdout",
     "output_type": "stream",
     "text": [
      "Media: 19.25\n",
      "Varianza: 0.23\n",
      "Des. Estandar: 0.48\n",
      "Skew: 0.27\n",
      "Kurtosis: -1.09\n"
     ]
    }
   ],
   "source": [
    "from numpy import*\n",
    "data = loadtxt(\"edades.dat\")\n",
    "a = mdistribucion(data)\n",
    "print(\"Media:\",format (a.medial(),'.2f'))\n",
    "print(\"Varianza:\",format(a.varianz(),'.2f'))\n",
    "print(\"Des. Estandar:\", format(a.destandar(),'.2f'))\n",
    "print(\"Skew:\", format(a.skev(),'.2f'))\n",
    "print(\"Kurtosis:\" , format(a.curtosis(),'.2f'))"
   ]
  },
  {
   "cell_type": "markdown",
   "metadata": {},
   "source": [
    "# Media, Covarianza y Correlación de \"dataClassQuan.dat\""
   ]
  },
  {
   "cell_type": "code",
   "execution_count": 5,
   "metadata": {},
   "outputs": [
    {
     "name": "stdout",
     "output_type": "stream",
     "text": [
      "La media de clásica: 37.50\n",
      "La media de cuántiuca: 55.25\n",
      "La covarianza entre clásica y cuántica es de: 207.46\n",
      "La correlación entre clásica y cuántica es de: 0.52\n"
     ]
    }
   ],
   "source": [
    "dat = loadtxt(\"dataClassQuan.dat\")\n",
    "b = mdistribucion(dat)\n",
    "c = mdistribucion(dat[:,0])\n",
    "d = mdistribucion(dat[:,1])\n",
    "print(\"La media de clásica:\",format(c.medial(),'.2f'))\n",
    "print(\"La media de cuántiuca:\", format(d.medial(),'.2f'))\n",
    "print(\"La covarianza entre clásica y cuántica es de:\",format(b.cova(),'.2f'))\n",
    "print(\"La correlación entre clásica y cuántica es de:\",format(b.core(),'.2f'))"
   ]
  },
  {
   "cell_type": "markdown",
   "metadata": {},
   "source": [
    "Como se puede apreciar en los  resultados obtenidos anteriormente la covarianza entre clásica y cuántica es positiva por lo tanto la relación entre estas es directamente prporcional.\n",
    "\n",
    "Por otro lado observamos que la correlación se encuentra por debajo de 1 esto nos indica que son directamente dependiente."
   ]
  },
  {
   "cell_type": "code",
   "execution_count": null,
   "metadata": {},
   "outputs": [],
   "source": []
  }
 ],
 "metadata": {
  "kernelspec": {
   "display_name": "Python 3",
   "language": "python",
   "name": "python3"
  },
  "language_info": {
   "codemirror_mode": {
    "name": "ipython",
    "version": 3
   },
   "file_extension": ".py",
   "mimetype": "text/x-python",
   "name": "python",
   "nbconvert_exporter": "python",
   "pygments_lexer": "ipython3",
   "version": "3.5.2"
  }
 },
 "nbformat": 4,
 "nbformat_minor": 2
}
